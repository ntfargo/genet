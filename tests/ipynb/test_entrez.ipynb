{
 "cells": [
  {
   "cell_type": "code",
   "execution_count": null,
   "metadata": {},
   "outputs": [],
   "source": [
    "from genet import database as db\n",
    "import pandas as pd"
   ]
  },
  {
   "cell_type": "code",
   "execution_count": null,
   "metadata": {},
   "outputs": [],
   "source": [
    "from Bio import Entrez"
   ]
  },
  {
   "cell_type": "code",
   "execution_count": null,
   "metadata": {},
   "outputs": [],
   "source": [
    "# first get UIDs for clinvar records of the same position\n",
    "# credits: credits: https://entrezpy.readthedocs.io/en/master/tutorials/esearch/esearch_uids.html\n",
    "chr = variants[\"chr\"].split(\"chr\")[1]\n",
    "start, end = str(variants[\"start\"]), str(variants[\"end\"])\n",
    "\n",
    "es = entrezpy.esearch.esearcher.Esearcher('esearcher', self.entrez_email)\n",
    "genomic_pos = chr + \"[chr]\" + \" AND \" + start + \":\" + end  # + \"[chrpos37]\"\n",
    "entrez_query = es.inquire(\n",
    "    {'db': 'clinvar',\n",
    "     'term': genomic_pos,\n",
    "     'retmax': 100000,\n",
    "     'retstart': 0,\n",
    "     'rettype': 'uilist'})  # 'usehistory': False\n",
    "entrez_uids = entrez_query.get_result().uids"
   ]
  },
  {
   "cell_type": "code",
   "execution_count": null,
   "metadata": {},
   "outputs": [],
   "source": [
    "# Gene name으로 reference sequence 정보를 찾고 싶으면, \n",
    "# NCBI에서 search string을 아래와 같이 정해서 넣어줘야 함\n",
    "\n",
    "item = 'BRCA1'\n",
    "animal = 'Homo sapien' \n",
    "search_string = item+\"[Gene] AND \"+animal+\"[Organism] AND biomol_genomic[PROP] AND RefSeqGene[Filter]\"\n",
    "\n",
    "# search_string = 'BRCA1[Gene] AND Homo sapien[Organism] AND biomol_genomic[PROP] AND RefSeqGene[Filter]'\n"
   ]
  },
  {
   "cell_type": "code",
   "execution_count": null,
   "metadata": {},
   "outputs": [],
   "source": [
    "handle = Entrez.esearch(db=\"nucleotide\", term=search_string)\n",
    "record = Entrez.read(handle)\n",
    "ids = record['IdList']"
   ]
  },
  {
   "cell_type": "code",
   "execution_count": null,
   "metadata": {},
   "outputs": [],
   "source": [
    "from Bio import SeqIO\n",
    "\n",
    "fetch = Entrez.efetch(db='nucleotide', id=record['IdList'], rettype='gb', retmode='xlm')\n",
    "record = SeqIO.read(fetch, 'genbank')\n",
    "\n",
    "record"
   ]
  },
  {
   "cell_type": "code",
   "execution_count": null,
   "metadata": {},
   "outputs": [],
   "source": [
    "cRec = record.features[0]\n",
    "print(type(cRec))\n",
    "print(cRec)\n",
    "print(cRec.type)\n",
    "print(cRec.location)\n",
    "print(cRec.qualifiers)"
   ]
  },
  {
   "cell_type": "code",
   "execution_count": null,
   "metadata": {},
   "outputs": [],
   "source": [
    "gene = db.GetGene('BRCA1')\n",
    "gene"
   ]
  },
  {
   "cell_type": "code",
   "execution_count": null,
   "metadata": {},
   "outputs": [],
   "source": [
    "# print(gene.transcripts())\n",
    "\n",
    "list_exons = gene.exons()"
   ]
  },
  {
   "cell_type": "code",
   "execution_count": null,
   "metadata": {},
   "outputs": [],
   "source": [
    "list_exons"
   ]
  },
  {
   "cell_type": "code",
   "execution_count": null,
   "metadata": {},
   "outputs": [],
   "source": [
    "list_transcript[1]"
   ]
  },
  {
   "cell_type": "code",
   "execution_count": null,
   "metadata": {},
   "outputs": [],
   "source": [
    "from pprint import pprint\n",
    "pprint(dir(seq))"
   ]
  },
  {
   "cell_type": "code",
   "execution_count": null,
   "metadata": {},
   "outputs": [],
   "source": [
    "a = seq.seq"
   ]
  },
  {
   "cell_type": "code",
   "execution_count": null,
   "metadata": {},
   "outputs": [],
   "source": [
    "len(a)"
   ]
  },
  {
   "cell_type": "code",
   "execution_count": null,
   "metadata": {},
   "outputs": [],
   "source": [
    "print(seq)"
   ]
  },
  {
   "cell_type": "code",
   "execution_count": null,
   "metadata": {},
   "outputs": [],
   "source": [
    "from genet import database as db"
   ]
  },
  {
   "cell_type": "code",
   "execution_count": null,
   "metadata": {},
   "outputs": [],
   "source": [
    "gene = db.GetGene('BRCA1')"
   ]
  },
  {
   "cell_type": "code",
   "execution_count": null,
   "metadata": {},
   "outputs": [],
   "source": [
    "\n",
    "dict_models = {\n",
    "    \n",
    "    'HEK293T': {\n",
    "        'PE2'        : 'DeepPrime_base',\n",
    "        'NRCH_PE2'   : 'DeepPrime_FT/DPFT_293T_NRCH_PE2',\n",
    "        'NRCH_PE2max': 'DeepPrime_FT/DPFT_293T_NRCH_PE2max',\n",
    "        'PE2max'     : 'DeepPrime_FT/DPFT_293T_PE2max',\n",
    "        'PE4max'     : 'DeepPrime_FT/DPFT_293T_PE4max',\n",
    "    },\n",
    "\n",
    "    'A549': {\n",
    "        'PE4max'     : 'DeepPrime_FT/DPFT_A549_PE4max',\n",
    "    },\n",
    "    \n",
    "    'DLD1': {\n",
    "        'NRCH_PE4max': 'DeepPrime_FT/DPFT_DLD1_NRCH_PE4max',\n",
    "        'PE4max'     : 'DeepPrime_FT/DPFT_DLD1_PE4max',\n",
    "    },\n",
    "\n",
    "    'HCT116': {\n",
    "        'PE2'        : 'DeepPrime_FT/DPFT_HCT116_PE2',\n",
    "    },\n",
    "    \n",
    "    'HeLa': {\n",
    "        'PE2max'     : 'DeepPrime_FT/DPFT_HeLa_PE2max',\n",
    "    },\n",
    "    \n",
    "    'MDA-MB-231': {\n",
    "        'PE2'        : 'DeepPrime_FT/DPFT_MDA_PE2',\n",
    "    },\n",
    "    \n",
    "    'NIH3T3': {\n",
    "        'NRCH_PE4max': 'DeepPrime_FT/DPFT_NIH_NRCH_PE4max',\n",
    "    },\n",
    "    \n",
    "}"
   ]
  },
  {
   "cell_type": "code",
   "execution_count": null,
   "metadata": {},
   "outputs": [],
   "source": [
    "import sys\n",
    "\n",
    "pe_system = 'PE4max'\n",
    "cell_type = 'DLD11'\n",
    "\n",
    "try:\n",
    "    model_type = dict_models[cell_type][pe_system]\n",
    "except:\n",
    "    print('Not available Prime Editor')\n",
    "    sys.exit()\n",
    "    \n",
    "    \n",
    "print(model_type)"
   ]
  },
  {
   "cell_type": "code",
   "execution_count": null,
   "metadata": {},
   "outputs": [],
   "source": [
    "import torch\n",
    "import torch.nn.functional as F\n",
    "import torch.nn as nn"
   ]
  },
  {
   "cell_type": "code",
   "execution_count": null,
   "metadata": {},
   "outputs": [],
   "source": [
    "class GeneInteractionModel(nn.Module):\n",
    "\n",
    "\n",
    "    def __init__(self, hidden_size, num_layers, num_features=24, dropout=0.1):\n",
    "        super(GeneInteractionModel, self).__init__()\n",
    "        self.hidden_size = hidden_size\n",
    "        self.num_layers = num_layers\n",
    "\n",
    "        self.c1 = nn.Sequential(\n",
    "            nn.Conv2d(in_channels=4, out_channels=128, kernel_size=(2, 3), stride=1, padding=(0, 1)),\n",
    "            nn.BatchNorm2d(128),\n",
    "            nn.GELU(),\n",
    "        )\n",
    "        self.c2 = nn.Sequential(\n",
    "            nn.Conv1d(in_channels=128, out_channels=108, kernel_size=3, stride=1, padding=1),\n",
    "            nn.BatchNorm1d(108),\n",
    "            nn.GELU(),\n",
    "            nn.AvgPool1d(kernel_size=2, stride=2),\n",
    "\n",
    "            nn.Conv1d(in_channels=108, out_channels=108, kernel_size=3, stride=1, padding=1),\n",
    "            nn.BatchNorm1d(108),\n",
    "            nn.GELU(),\n",
    "            nn.AvgPool1d(kernel_size=2, stride=2),\n",
    "\n",
    "            nn.Conv1d(in_channels=108, out_channels=128, kernel_size=3, stride=1, padding=1),\n",
    "            nn.BatchNorm1d(128),\n",
    "            nn.GELU(),\n",
    "            nn.AvgPool1d(kernel_size=2, stride=2),\n",
    "        )\n",
    "\n",
    "        self.r = nn.GRU(128, hidden_size, num_layers, batch_first=True, bidirectional=True)\n",
    "\n",
    "        self.s = nn.Linear(2 * hidden_size, 12, bias=False)\n",
    "\n",
    "        self.d = nn.Sequential(\n",
    "            nn.Linear(num_features, 96, bias=False),\n",
    "            nn.ReLU(),\n",
    "            nn.Dropout(dropout),\n",
    "            nn.Linear(96, 64, bias=False),\n",
    "            nn.ReLU(),\n",
    "            nn.Dropout(dropout),\n",
    "            nn.Linear(64, 128, bias=False)\n",
    "        )\n",
    "\n",
    "        self.head = nn.Sequential(\n",
    "            nn.BatchNorm1d(140),\n",
    "            nn.Dropout(dropout),\n",
    "            nn.Linear(140, 1, bias=True),\n",
    "        )\n",
    "\n",
    "    def forward(self, g, x):\n",
    "        g = torch.squeeze(self.c1(g), 2)\n",
    "        g = self.c2(g)\n",
    "        g, _ = self.r(torch.transpose(g, 1, 2))\n",
    "        g = self.s(g[:, -1, :])\n",
    "\n",
    "        x = self.d(x)\n",
    "\n",
    "        out = self.head(torch.cat((g, x), dim=1))\n",
    "\n",
    "        return F.softplus(out)\n"
   ]
  },
  {
   "cell_type": "code",
   "execution_count": null,
   "metadata": {},
   "outputs": [],
   "source": [
    "device = 'cuda' if torch.cuda.is_available() else 'cpu'\n",
    "m = r'D:\\github_project\\genet\\genet\\predict\\models\\DeepPrime\\DeepPrime_FT\\DPFT_293T_NRCH_PE2\\final_model_0.pt'\n",
    "model = GeneInteractionModel(hidden_size=128, num_layers=1).to(device)\n",
    "model.load_state_dict(torch.load(m))"
   ]
  },
  {
   "cell_type": "code",
   "execution_count": null,
   "metadata": {},
   "outputs": [],
   "source": [
    "path = r'D:\\github_project\\genet\\genet\\predict\\models\\DeepPrime\\DeepPrime_FT\\DPFT_293T_NRCH_PE2\\final_model_0_new.pt'\n",
    "torch.save(model.state_dict(), path)"
   ]
  },
  {
   "cell_type": "code",
   "execution_count": null,
   "metadata": {},
   "outputs": [],
   "source": []
  }
 ],
 "metadata": {
  "kernelspec": {
   "display_name": "Python 3.8.13 ('genet')",
   "language": "python",
   "name": "python3"
  },
  "language_info": {
   "codemirror_mode": {
    "name": "ipython",
    "version": 3
   },
   "file_extension": ".py",
   "mimetype": "text/x-python",
   "name": "python",
   "nbconvert_exporter": "python",
   "pygments_lexer": "ipython3",
   "version": "3.8.13 (default, Oct 19 2022, 22:38:03) [MSC v.1916 64 bit (AMD64)]"
  },
  "orig_nbformat": 4,
  "vscode": {
   "interpreter": {
    "hash": "ad333f69f1d349cc4ee014c46a9ac73e8a7331a44020b2a0d8d29b366c987199"
   }
  }
 },
 "nbformat": 4,
 "nbformat_minor": 2
}
